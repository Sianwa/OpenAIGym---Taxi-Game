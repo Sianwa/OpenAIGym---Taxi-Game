{
  "nbformat": 4,
  "nbformat_minor": 0,
  "metadata": {
    "colab": {
      "name": "Taxi Game using Reinforcement Q-Learning",
      "provenance": [],
      "authorship_tag": "ABX9TyNFY2IPt9i+9NDbDfDuUlpb",
      "include_colab_link": true
    },
    "kernelspec": {
      "name": "python3",
      "display_name": "Python 3"
    }
  },
  "cells": [
    {
      "cell_type": "markdown",
      "metadata": {
        "id": "view-in-github",
        "colab_type": "text"
      },
      "source": [
        "<a href=\"https://colab.research.google.com/github/Sianwa/OpenAIGym---Taxi-Game/blob/master/Taxi_Game_using_Reinforcement_Q_Learning.ipynb\" target=\"_parent\"><img src=\"https://colab.research.google.com/assets/colab-badge.svg\" alt=\"Open In Colab\"/></a>"
      ]
    },
    {
      "cell_type": "code",
      "metadata": {
        "id": "lb1ta-TqplSD",
        "colab_type": "code",
        "colab": {}
      },
      "source": [
        "!pip install cmake 'gym[atari]' scipy"
      ],
      "execution_count": null,
      "outputs": []
    },
    {
      "cell_type": "code",
      "metadata": {
        "id": "m5Cu9THNpxnL",
        "colab_type": "code",
        "colab": {}
      },
      "source": [
        "import gym"
      ],
      "execution_count": null,
      "outputs": []
    },
    {
      "cell_type": "markdown",
      "metadata": {
        "id": "hrYxoboSqvrP",
        "colab_type": "text"
      },
      "source": [
        "## The Problem Statement\n",
        "There are 4 locations (labeled by different letters), and our job is to pick up the passenger at one location and drop him off at another. We receive +20 points for a successful drop-off and lose 1 point for every time-step it takes. There is also a 10 point penalty for illegal pick-up and drop-off actions."
      ]
    },
    {
      "cell_type": "code",
      "metadata": {
        "id": "_8YsvlbgpzlN",
        "colab_type": "code",
        "colab": {
          "base_uri": "https://localhost:8080/",
          "height": 166
        },
        "outputId": "9d7e94bf-729b-4232-e862-e480f6a42217"
      },
      "source": [
        "env = gym.make(\"Taxi-v3\").env\n",
        "env.render()"
      ],
      "execution_count": null,
      "outputs": [
        {
          "output_type": "stream",
          "text": [
            "+---------+\n",
            "|\u001b[34;1mR\u001b[0m: | : :\u001b[35mG\u001b[0m|\n",
            "| : |\u001b[43m \u001b[0m: : |\n",
            "| : : : : |\n",
            "| | : | : |\n",
            "|Y| : |B: |\n",
            "+---------+\n",
            "\n"
          ],
          "name": "stdout"
        }
      ]
    },
    {
      "cell_type": "markdown",
      "metadata": {
        "id": "9cSEEH4WqM8a",
        "colab_type": "text"
      },
      "source": [
        "The core gym interface is `env`, which is the unified environment interface. The following are the env methods that would be quite helpful to us:\n",
        "\n",
        "`env.reset`: Resets the environment and returns a random initial state.\n",
        "\n",
        "`env.step(action)`: Step the environment by one timestep. Returns\n",
        "\n",
        "1. observation: Observations of the environment\n",
        "2. reward: If your action was beneficial or not\n",
        "3. done: Indicates if we have successfully picked up and dropped off a passenger, also called one episode\n",
        "4. info: Additional info such as performance and latency for debugging purposes\n",
        "\n",
        "`env.render:` Renders one frame of the environment (helpful in visualizing the environment)"
      ]
    },
    {
      "cell_type": "code",
      "metadata": {
        "id": "R7cs4H_Nq9sH",
        "colab_type": "code",
        "colab": {
          "base_uri": "https://localhost:8080/",
          "height": 204
        },
        "outputId": "9ec6f90d-1916-4dfe-9fdf-d2d4fb7455e6"
      },
      "source": [
        "env.reset() # reset environment to a new, random state\n",
        "env.render()\n",
        "\n",
        "print(\"Action Space {}\".format(env.action_space))\n",
        "print(\"State Space {}\".format(env.observation_space))"
      ],
      "execution_count": null,
      "outputs": [
        {
          "output_type": "stream",
          "text": [
            "+---------+\n",
            "|R: | : :G|\n",
            "| : | : :\u001b[43m \u001b[0m|\n",
            "| : : : : |\n",
            "| | : | : |\n",
            "|\u001b[35mY\u001b[0m| : |\u001b[34;1mB\u001b[0m: |\n",
            "+---------+\n",
            "\n",
            "Action Space Discrete(6)\n",
            "State Space Discrete(500)\n"
          ],
          "name": "stdout"
        }
      ]
    },
    {
      "cell_type": "markdown",
      "metadata": {
        "id": "j70WEgJ_rO8N",
        "colab_type": "text"
      },
      "source": [
        "1. The filled square represents the taxi, which is yellow without a passenger and green with a passenger.\n",
        "2. The pipe (\"|\") represents a wall which the taxi cannot cross.\n",
        "3. R, G, Y, B are the possible pickup and destination locations. The blue letter represents the current passenger pick-up location, and the purple letter is the current destination.\n",
        "\n",
        "Action space = { south, north, east, west. pickup, dropoff }\n",
        "\n",
        "The 500 states correspond to a encoding of the taxi's location, the passenger's location, and the destination location."
      ]
    },
    {
      "cell_type": "code",
      "metadata": {
        "id": "ZYE4MDeYsH5q",
        "colab_type": "code",
        "colab": {
          "base_uri": "https://localhost:8080/",
          "height": 185
        },
        "outputId": "2954b9b9-70ec-4c75-ae47-c3c6bf1d4b87"
      },
      "source": [
        "state = env.encode(3, 1, 2, 0) # (taxi row, taxi column, passenger index, destination index)\n",
        "print(\"State:\", state)\n",
        "\n",
        "env.s = state #setting the environmntal state manually\n",
        "env.render()"
      ],
      "execution_count": null,
      "outputs": [
        {
          "output_type": "stream",
          "text": [
            "State: 328\n",
            "+---------+\n",
            "|\u001b[35mR\u001b[0m: | : :G|\n",
            "| : | : : |\n",
            "| : : : : |\n",
            "| |\u001b[43m \u001b[0m: | : |\n",
            "|\u001b[34;1mY\u001b[0m| : |B: |\n",
            "+---------+\n",
            "\n"
          ],
          "name": "stdout"
        }
      ]
    },
    {
      "cell_type": "code",
      "metadata": {
        "id": "kAM6gAIVs67_",
        "colab_type": "code",
        "colab": {
          "base_uri": "https://localhost:8080/",
          "height": 129
        },
        "outputId": "3ff9553b-6dd2-42f7-9df4-8f55681cd437"
      },
      "source": [
        "#prinitng the reward table\n",
        "env.P[328]\n",
        "#its structure is :{action: [(probability, nextstate, reward, done)]}."
      ],
      "execution_count": null,
      "outputs": [
        {
          "output_type": "execute_result",
          "data": {
            "text/plain": [
              "{0: [(1.0, 428, -1, False)],\n",
              " 1: [(1.0, 228, -1, False)],\n",
              " 2: [(1.0, 348, -1, False)],\n",
              " 3: [(1.0, 328, -1, False)],\n",
              " 4: [(1.0, 328, -10, False)],\n",
              " 5: [(1.0, 328, -10, False)]}"
            ]
          },
          "metadata": {
            "tags": []
          },
          "execution_count": 8
        }
      ]
    },
    {
      "cell_type": "markdown",
      "metadata": {
        "id": "g45VYTo0tytz",
        "colab_type": "text"
      },
      "source": [
        "All the movement actions have a -1 reward and the pickup/dropoff actions have -10 reward in this particular state. If we are in a state where the taxi has a passenger and is on top of the right destination, we would see a reward of 20 at the dropoff action (5)\n",
        "\n",
        "done is used to tell us when we have successfully dropped off a passenger in the right location. Each successfull dropoff is the end of an episode"
      ]
    },
    {
      "cell_type": "markdown",
      "metadata": {
        "id": "7iyZ0EtIuxTL",
        "colab_type": "text"
      },
      "source": [
        "# New section: Intro to Q-learning\n"
      ]
    },
    {
      "cell_type": "markdown",
      "metadata": {
        "id": "CrERZ5__vS4m",
        "colab_type": "text"
      },
      "source": [
        "Essentially, Q-learning lets the agent use the environment's rewards to learn, over time, the best action to take in a given state.\n",
        "\n",
        "In our Taxi environment, we have the reward table, `P`, that the agent will learn from. It does thing by looking receiving a reward for taking an action in the current state, then updating a Q-value to remember if that action was beneficial.\n",
        "\n",
        "The values store in the Q-table are called a Q-values, and they map to a `(state, action)` combination.\n",
        "\n",
        "Breaking it down into steps, we get\n",
        "\n",
        "1. Initialize the Q-table by all zeros.\n",
        "2. Start exploring actions: For each state, select any one among all possible actions for the current state (S).\n",
        "3. Travel to the next state (S') as a result of that action (a).\n",
        "4. For all possible actions from the state (S') select the one with the highest Q-value.\n",
        "5. Update Q-table values using the equation.\n",
        "6. Set the next state as the current state.\n",
        "7. If goal state is reached, then end and repeat the process."
      ]
    },
    {
      "cell_type": "code",
      "metadata": {
        "id": "uQC3gpj1wY9G",
        "colab_type": "code",
        "colab": {
          "base_uri": "https://localhost:8080/",
          "height": 148
        },
        "outputId": "d679143c-805d-43b9-d8dc-3353ea77a1d7"
      },
      "source": [
        "import numpy as np\n",
        "\n",
        "#initializing the Q-table to a 500 * 6 matrix of zeros. \n",
        "q_table = np.zeros([env.observation_space.n, env.action_space.n])\n",
        "q_table"
      ],
      "execution_count": null,
      "outputs": [
        {
          "output_type": "execute_result",
          "data": {
            "text/plain": [
              "array([[0., 0., 0., 0., 0., 0.],\n",
              "       [0., 0., 0., 0., 0., 0.],\n",
              "       [0., 0., 0., 0., 0., 0.],\n",
              "       ...,\n",
              "       [0., 0., 0., 0., 0., 0.],\n",
              "       [0., 0., 0., 0., 0., 0.],\n",
              "       [0., 0., 0., 0., 0., 0.]])"
            ]
          },
          "metadata": {
            "tags": []
          },
          "execution_count": 11
        }
      ]
    },
    {
      "cell_type": "code",
      "metadata": {
        "id": "1DlIo--RxLW_",
        "colab_type": "code",
        "colab": {
          "base_uri": "https://localhost:8080/",
          "height": 70
        },
        "outputId": "d47d25ba-2ebd-483b-bc80-c304eb3f6208"
      },
      "source": [
        "\"\"\"Training the Agent\"\"\"\n",
        "\n",
        "import random\n",
        "from IPython.display import clear_output\n",
        "\n",
        "#Hyperparameters\n",
        "alpha = 0.1\n",
        "gamma = 0.6\n",
        "epsilon = 0.1\n",
        "\n",
        "#for plotting metrics\n",
        "all_epochs = []\n",
        "all_penalties = []\n",
        "\n",
        "for i in range(1,100001):\n",
        "  state =env.reset()\n",
        "\n",
        "  epochs,penalties, reward, = 0, 0, 0\n",
        "  done = False\n",
        "\n",
        "  while not done:\n",
        "    if random.uniform(0,1) < epsilon:\n",
        "      action = env.action_space.sample() # Explore action space\n",
        "\n",
        "    else:\n",
        "            action = np.argmax(q_table[state]) # Exploit learned values\n",
        "\n",
        "    next_state, reward, done, info = env.step(action)\n",
        "    old_value = q_table[state, action]\n",
        "    next_max = np.max(q_table[next_state])\n",
        "\n",
        "    new_value = (1 - alpha) * old_value + alpha * (reward + gamma * next_max)\n",
        "    q_table[state, action] = new_value\n",
        "\n",
        "    if reward == -10:\n",
        "            penalties += 1\n",
        "\n",
        "    state = next_state\n",
        "    epochs += 1\n",
        "        \n",
        "    if i % 100 == 0:\n",
        "        clear_output(wait=True)\n",
        "        print(f\"Episode: {i}\")\n",
        "\n",
        "print(\"Training finished.\\n\")"
      ],
      "execution_count": 19,
      "outputs": [
        {
          "output_type": "stream",
          "text": [
            "Episode: 100000\n",
            "Training finished.\n",
            "\n"
          ],
          "name": "stdout"
        }
      ]
    },
    {
      "cell_type": "markdown",
      "metadata": {
        "id": "EUWnh5xn_EST",
        "colab_type": "text"
      },
      "source": [
        "Now that the Q-table has been established over 100,000 episodes, let's see what the Q-values are at our illustration's state:"
      ]
    },
    {
      "cell_type": "code",
      "metadata": {
        "id": "-4W8BtBM_FO_",
        "colab_type": "code",
        "colab": {
          "base_uri": "https://localhost:8080/",
          "height": 52
        },
        "outputId": "3c40849f-472b-4368-c4b2-185c9bd8d68d"
      },
      "source": [
        "q_table[328]"
      ],
      "execution_count": 56,
      "outputs": [
        {
          "output_type": "execute_result",
          "data": {
            "text/plain": [
              "array([ -2.41696597,  -2.27325184,  -2.41045062,  -2.3624831 ,\n",
              "       -11.32644396, -11.18962504])"
            ]
          },
          "metadata": {
            "tags": []
          },
          "execution_count": 56
        }
      ]
    },
    {
      "cell_type": "markdown",
      "metadata": {
        "id": "DmaI791e_qlT",
        "colab_type": "text"
      },
      "source": [
        "The max Q-value is \"north\" (-1.971), so it looks like Q-learning has effectively learned the best action to take in our illustration's state!"
      ]
    },
    {
      "cell_type": "markdown",
      "metadata": {
        "id": "WZyk9RGWANVF",
        "colab_type": "text"
      },
      "source": [
        "# New section: evaluating the agent\n",
        "Let's evaluate the performance of our agent. We don't need to explore actions any further, so now the next action is always selected using the best Q-value:"
      ]
    },
    {
      "cell_type": "code",
      "metadata": {
        "id": "UboZI7ruGyYT",
        "colab_type": "code",
        "colab": {
          "base_uri": "https://localhost:8080/",
          "height": 177
        },
        "outputId": "0fedf43a-70c2-47de-d365-64e9c9894e68"
      },
      "source": [
        "NewState = env.reset()\n",
        "env.s = NewState\n",
        "env.render()\n",
        "(\"state:\", NewState)"
      ],
      "execution_count": 88,
      "outputs": [
        {
          "output_type": "stream",
          "text": [
            "+---------+\n",
            "|\u001b[35mR\u001b[0m: | :\u001b[43m \u001b[0m:\u001b[34;1mG\u001b[0m|\n",
            "| : | : : |\n",
            "| : : : : |\n",
            "| | : | : |\n",
            "|Y| : |B: |\n",
            "+---------+\n",
            "\n"
          ],
          "name": "stdout"
        },
        {
          "output_type": "execute_result",
          "data": {
            "text/plain": [
              "('state:', 64)"
            ]
          },
          "metadata": {
            "tags": []
          },
          "execution_count": 88
        }
      ]
    },
    {
      "cell_type": "code",
      "metadata": {
        "id": "flP6mzA1MOrV",
        "colab_type": "code",
        "colab": {
          "base_uri": "https://localhost:8080/",
          "height": 124
        },
        "outputId": "bd2543fc-513d-42f8-dfb1-50d989c7dd82"
      },
      "source": [
        "env.P[64]"
      ],
      "execution_count": 89,
      "outputs": [
        {
          "output_type": "execute_result",
          "data": {
            "text/plain": [
              "{0: [(1.0, 164, -1, False)],\n",
              " 1: [(1.0, 64, -1, False)],\n",
              " 2: [(1.0, 84, -1, False)],\n",
              " 3: [(1.0, 44, -1, False)],\n",
              " 4: [(1.0, 64, -10, False)],\n",
              " 5: [(1.0, 64, -10, False)]}"
            ]
          },
          "metadata": {
            "tags": []
          },
          "execution_count": 89
        }
      ]
    },
    {
      "cell_type": "code",
      "metadata": {
        "id": "4i5pmyRRATX-",
        "colab_type": "code",
        "colab": {
          "base_uri": "https://localhost:8080/",
          "height": 1000
        },
        "outputId": "0671025f-29a7-410b-aae6-a37c8063ccf1"
      },
      "source": [
        "\"\"\"Evaluate agent's performance after Q-learning\"\"\"\n",
        "\n",
        "total_epochs, total_penalties = 0, 0\n",
        "episodes = 1\n",
        "state = NewState\n",
        "frames = [] # for animation\n",
        "\n",
        "for _ in range(episodes):\n",
        "    epochs, penalties, reward = 0, 0, 0\n",
        "    done = False\n",
        "    \n",
        "    while not done:\n",
        "        action = np.argmax(q_table[state])\n",
        "        state, reward, done, info = env.step(action)\n",
        "\n",
        "        if reward == -10:\n",
        "            penalties += 1\n",
        "\n",
        "        # Put each rendered frame into dict for animation\n",
        "        frames.append({\n",
        "              'frame': env.render(),\n",
        "              'state': state,\n",
        "              'action': action,\n",
        "              'reward': reward\n",
        "              }\n",
        "          )    \n",
        "\n",
        "        epochs += 1\n",
        "\n",
        "    total_penalties += penalties\n",
        "    total_epochs += epochs\n",
        "\n",
        "print(f\"Results after {episodes} episodes:\")\n",
        "print(f\"Average timesteps per episode: {total_epochs / episodes}\")\n",
        "print(f\"Average penalties per episode: {total_penalties / episodes}\")"
      ],
      "execution_count": 90,
      "outputs": [
        {
          "output_type": "stream",
          "text": [
            "+---------+\n",
            "|\u001b[35mR\u001b[0m: | : :\u001b[34;1m\u001b[43mG\u001b[0m\u001b[0m|\n",
            "| : | : : |\n",
            "| : : : : |\n",
            "| | : | : |\n",
            "|Y| : |B: |\n",
            "+---------+\n",
            "  (East)\n",
            "+---------+\n",
            "|\u001b[35mR\u001b[0m: | : :\u001b[42mG\u001b[0m|\n",
            "| : | : : |\n",
            "| : : : : |\n",
            "| | : | : |\n",
            "|Y| : |B: |\n",
            "+---------+\n",
            "  (Pickup)\n",
            "+---------+\n",
            "|\u001b[35mR\u001b[0m: | : :G|\n",
            "| : | : :\u001b[42m_\u001b[0m|\n",
            "| : : : : |\n",
            "| | : | : |\n",
            "|Y| : |B: |\n",
            "+---------+\n",
            "  (South)\n",
            "+---------+\n",
            "|\u001b[35mR\u001b[0m: | : :G|\n",
            "| : | :\u001b[42m_\u001b[0m: |\n",
            "| : : : : |\n",
            "| | : | : |\n",
            "|Y| : |B: |\n",
            "+---------+\n",
            "  (West)\n",
            "+---------+\n",
            "|\u001b[35mR\u001b[0m: | : :G|\n",
            "| : | : : |\n",
            "| : : :\u001b[42m_\u001b[0m: |\n",
            "| | : | : |\n",
            "|Y| : |B: |\n",
            "+---------+\n",
            "  (South)\n",
            "+---------+\n",
            "|\u001b[35mR\u001b[0m: | : :G|\n",
            "| : | : : |\n",
            "| : :\u001b[42m_\u001b[0m: : |\n",
            "| | : | : |\n",
            "|Y| : |B: |\n",
            "+---------+\n",
            "  (West)\n",
            "+---------+\n",
            "|\u001b[35mR\u001b[0m: | : :G|\n",
            "| : | : : |\n",
            "| :\u001b[42m_\u001b[0m: : : |\n",
            "| | : | : |\n",
            "|Y| : |B: |\n",
            "+---------+\n",
            "  (West)\n",
            "+---------+\n",
            "|\u001b[35mR\u001b[0m: | : :G|\n",
            "| :\u001b[42m_\u001b[0m| : : |\n",
            "| : : : : |\n",
            "| | : | : |\n",
            "|Y| : |B: |\n",
            "+---------+\n",
            "  (North)\n",
            "+---------+\n",
            "|\u001b[35mR\u001b[0m: | : :G|\n",
            "|\u001b[42m_\u001b[0m: | : : |\n",
            "| : : : : |\n",
            "| | : | : |\n",
            "|Y| : |B: |\n",
            "+---------+\n",
            "  (West)\n",
            "+---------+\n",
            "|\u001b[35m\u001b[42mR\u001b[0m\u001b[0m: | : :G|\n",
            "| : | : : |\n",
            "| : : : : |\n",
            "| | : | : |\n",
            "|Y| : |B: |\n",
            "+---------+\n",
            "  (North)\n",
            "+---------+\n",
            "|\u001b[35m\u001b[34;1m\u001b[43mR\u001b[0m\u001b[0m\u001b[0m: | : :G|\n",
            "| : | : : |\n",
            "| : : : : |\n",
            "| | : | : |\n",
            "|Y| : |B: |\n",
            "+---------+\n",
            "  (Dropoff)\n",
            "Results after 1 episodes:\n",
            "Average timesteps per episode: 11.0\n",
            "Average penalties per episode: 0.0\n"
          ],
          "name": "stdout"
        }
      ]
    }
  ]
}